{
 "cells": [
  {
   "cell_type": "markdown",
   "metadata": {},
   "source": [
    "My Tutorial will be directing people and showing how to use Textblob. We will start out with the basics and go into more advanced material like language detection and text classification. \n",
    "I believe Textblob is a fun and easier way to shape up the data you have collected into a more organized format. The language detection will benefit students who are trying to learn a language or if someone needs to translate a certain webpage into English for a report."
   ]
  },
  {
   "cell_type": "code",
   "execution_count": 58,
   "metadata": {
    "collapsed": true
   },
   "outputs": [],
   "source": [
    "from textblob import TextBlob"
   ]
  },
  {
   "cell_type": "markdown",
   "metadata": {},
   "source": [
    "This step is importing the package into the notebook."
   ]
  },
  {
   "cell_type": "markdown",
   "metadata": {},
   "source": [
    "Now it is time to create the first text blob."
   ]
  },
  {
   "cell_type": "code",
   "execution_count": 59,
   "metadata": {},
   "outputs": [
    {
     "data": {
      "text/plain": [
       "TextBlob(\"Kansas is a great place to be and I will always call this place home.\")"
      ]
     },
     "execution_count": 59,
     "metadata": {},
     "output_type": "execute_result"
    }
   ],
   "source": [
    "Text = TextBlob(\"Kansas is a great place to be and I will always call this place home.\")\n",
    "Text"
   ]
  },
  {
   "cell_type": "code",
   "execution_count": 60,
   "metadata": {},
   "outputs": [
    {
     "data": {
      "text/plain": [
       "[('Kansas', u'NNP'),\n",
       " ('is', u'VBZ'),\n",
       " ('a', u'DT'),\n",
       " ('great', u'JJ'),\n",
       " ('place', u'NN'),\n",
       " ('to', u'TO'),\n",
       " ('be', u'VB'),\n",
       " ('and', u'CC'),\n",
       " ('I', u'PRP'),\n",
       " ('will', u'MD'),\n",
       " ('always', u'RB'),\n",
       " ('call', u'VB'),\n",
       " ('this', u'DT'),\n",
       " ('place', u'NN'),\n",
       " ('home', u'NN')]"
      ]
     },
     "execution_count": 60,
     "metadata": {},
     "output_type": "execute_result"
    }
   ],
   "source": [
    "Text.tags"
   ]
  },
  {
   "cell_type": "markdown",
   "metadata": {},
   "source": [
    "This is grouping individual words and tagging them to a certain sequence."
   ]
  },
  {
   "cell_type": "markdown",
   "metadata": {},
   "source": [
    "Now we are going to identify the noun phrases. "
   ]
  },
  {
   "cell_type": "code",
   "execution_count": 61,
   "metadata": {},
   "outputs": [
    {
     "data": {
      "text/plain": [
       "WordList([u'great place', u'place home'])"
      ]
     },
     "execution_count": 61,
     "metadata": {},
     "output_type": "execute_result"
    }
   ],
   "source": [
    "Text.noun_phrases"
   ]
  },
  {
   "cell_type": "markdown",
   "metadata": {},
   "source": [
    "This separates or clarifies what nouns are being stated and states the subject of the sentence."
   ]
  },
  {
   "cell_type": "markdown",
   "metadata": {},
   "source": [
    "Moving on to our next step which is sentiment analysis stage using Textblob. Sentiment analysis is using data to determine if the writer is using a positive writing style or a negative writing style. Gathering data and grouping them to certain characterisitics makes the reader or readers understand what the opinion of the public is. This trend is drastically improving and many organizations use this strategy to figure out how to attract their audience. "
   ]
  },
  {
   "cell_type": "code",
   "execution_count": 62,
   "metadata": {},
   "outputs": [
    {
     "data": {
      "text/plain": [
       "Sentiment(polarity=0.8333333333333334, subjectivity=0.65)"
      ]
     },
     "execution_count": 62,
     "metadata": {},
     "output_type": "execute_result"
    }
   ],
   "source": [
    "Football = TextBlob(\"The Kansas City Chiefs is the best football team ever. The Kansas City Chiefs work well together, have great chemistry and there are a lot of talented players on the team.\")\n",
    "Football.sentiment\n"
   ]
  },
  {
   "cell_type": "markdown",
   "metadata": {},
   "source": [
    "The polarity has a range from (-1 - 1), and subjectivity has a range from 0 - 1. "
   ]
  },
  {
   "cell_type": "code",
   "execution_count": 63,
   "metadata": {},
   "outputs": [
    {
     "data": {
      "text/plain": [
       "WordList(['He', 'is', 'in', 'love', 'with', 'her', 'The', 'name', \"'s\", 'Bond', 'James', 'Bond', 'There', 'was', 'once', 'a', 'boy', 'named', 'John', 'who', 'lived', 'with', 'his', 'parents', 'in', 'the', 'wilderness'])"
      ]
     },
     "execution_count": 63,
     "metadata": {},
     "output_type": "execute_result"
    }
   ],
   "source": [
    "Wonder = TextBlob(\"He is in love with her. \"\n",
    "...                \"The name's Bond, James Bond. \"\n",
    "...                \"There was once a boy named John who lived with his parents in the wilderness.\")\n",
    "Wonder.words"
   ]
  },
  {
   "cell_type": "code",
   "execution_count": 64,
   "metadata": {},
   "outputs": [
    {
     "data": {
      "text/plain": [
       "'wildernesses'"
      ]
     },
     "execution_count": 64,
     "metadata": {},
     "output_type": "execute_result"
    }
   ],
   "source": [
    "Wonder.words\n",
    "(['He', 'is', 'in', 'love', 'with', 'her', 'The', 'name', \"'s\", 'Bond', 'James', 'Bond', 'There', 'was', 'once', 'a', 'boy', 'named', 'John', 'who', 'lived', 'with', 'his', 'parents', 'in', 'the', 'wilderness'])\n",
    "Wonder.words[2].singularize()\n",
    "Wonder.words[-1].pluralize()"
   ]
  },
  {
   "cell_type": "markdown",
   "metadata": {},
   "source": [
    "Now below we have a feature of textblob taht will check your spelling and make sure your words are in the right order and are spelled correctly. "
   ]
  },
  {
   "cell_type": "code",
   "execution_count": 65,
   "metadata": {},
   "outputs": [
    {
     "name": "stdout",
     "output_type": "stream",
     "text": [
      "I have a friend and his name is Andrew.\n"
     ]
    }
   ],
   "source": [
    "b = TextBlob(\"I have a frend and hir nmae is Andrea.\")\n",
    "print(b.correct())"
   ]
  },
  {
   "cell_type": "code",
   "execution_count": 91,
   "metadata": {
    "scrolled": true
   },
   "outputs": [
    {
     "name": "stdout",
     "output_type": "stream",
     "text": [
      "French I am the first to make Shakespeare known to the French. I translated passages forty years ago. Nordahl Lelandais confesses the murder of Corporal Arthur Noyer\n"
     ]
    }
   ],
   "source": [
    "with open('language.csv') as F:\n",
    "    data = F.read()\n",
    "\n",
    "data = data.split('\\n')\n",
    "\n",
    "languages = data[0].split(',')\n",
    "sentences = data[1].split(',')\n",
    "\n",
    "# clean first word\n",
    "languages[0] = languages[0][3:]\n",
    "\n",
    "\n",
    "# use text blob\n",
    "for sentence in sentences:\n",
    "    blob = TextBlob(sentence)\n",
    "    lang = blob.detect_language()\n",
    "    if lang != 'en':\n",
    "        print(blob.translate(to='en'))\n",
    "    else:\n",
    "        pass\n",
    "    "
   ]
  },
  {
   "cell_type": "markdown",
   "metadata": {},
   "source": [
    "To explain this attribute of textblob I'm going to break it up. First I grabbed the information from a csv file that I created from Excel. Then I made Python read the file and split the data. After that I cleaned the data. The next thing I added was the code to distinguish or detect which language were the words written in and to tell textblob to translate the sentences to english. So i made a for loop and an if/then statement to make every sentence that was not written in english translated into english."
   ]
  },
  {
   "cell_type": "code",
   "execution_count": 68,
   "metadata": {},
   "outputs": [
    {
     "name": "stdout",
     "output_type": "stream",
     "text": [
      "The lake was amazing.\n",
      "pos\n",
      "We had a bad time tubing.\n",
      "neg\n",
      "The only thing is that i hurt my leg falling off the tube.\n",
      "neg\n"
     ]
    }
   ],
   "source": [
    "from textblob.classifiers import NaiveBayesClassifier\n",
    "cl = NaiveBayesClassifier(train)\n",
    "cl.classify(\"amazing, great, fantastic, fun, funny, wonderful, cool, awesome, delightful, good, best, better, greater\")\n",
    "'pos'\n",
    "blob = TextBlob(\"The lake was amazing. We had a bad time tubing. The only thing is that i hurt my leg falling off the tube.\", classifier=cl)\n",
    "for s in blob.sentences:\n",
    "    print(s)\n",
    "    print(s.classify())"
   ]
  },
  {
   "cell_type": "markdown",
   "metadata": {},
   "source": [
    "In this exercise I am trying to classify which words make sentences positive or negative using the naive bayes classifier from textblob."
   ]
  },
  {
   "cell_type": "markdown",
   "metadata": {},
   "source": [
    "There are many different exercises that Textblob can do and can be used in a variety of ways. I hope you have a better understanding of what Textblob is about and I hope you can use this to help you in projects to come. "
   ]
  },
  {
   "cell_type": "markdown",
   "metadata": {},
   "source": [
    "Reference \n",
    "\n",
    "Textblob Website\n",
    "http://textblob.readthedocs.io/en/dev/quickstart.html#translation-and-language-detection\n",
    "\n",
    "Le Monde.fr News Article\n",
    "http://www.lemonde.fr/police-justice/article/2018/03/29/meurtre-du-caporal-noyer-audition-de-nordahl-lelandais-et-transport-de-justice_5278270_1653578.html\n",
    "    "
   ]
  },
  {
   "cell_type": "code",
   "execution_count": null,
   "metadata": {
    "collapsed": true
   },
   "outputs": [],
   "source": []
  },
  {
   "cell_type": "code",
   "execution_count": null,
   "metadata": {
    "collapsed": true
   },
   "outputs": [],
   "source": []
  }
 ],
 "metadata": {
  "kernelspec": {
   "display_name": "Python 2",
   "language": "python",
   "name": "python2"
  },
  "language_info": {
   "codemirror_mode": {
    "name": "ipython",
    "version": 2
   },
   "file_extension": ".py",
   "mimetype": "text/x-python",
   "name": "python",
   "nbconvert_exporter": "python",
   "pygments_lexer": "ipython2",
   "version": "2.7.14"
  }
 },
 "nbformat": 4,
 "nbformat_minor": 2
}
